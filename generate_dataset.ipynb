{
 "cells": [
  {
   "cell_type": "markdown",
   "metadata": {},
   "source": [
    "# Prepare the dataset"
   ]
  },
  {
   "cell_type": "markdown",
   "metadata": {},
   "source": [
    "[TOC]\n",
    "* [Get original data]()"
   ]
  },
  {
   "cell_type": "markdown",
   "metadata": {},
   "source": [
    "## Download the matrix data from [SuiteMatrix](https://sparse.tamu.edu/)\n",
    "\n",
    "They provide the interface to download the set or subset of the matrices according to your appetite.\n"
   ]
  },
  {
   "cell_type": "code",
   "execution_count": 1,
   "metadata": {},
   "outputs": [
    {
     "name": "stdout",
     "output_type": "stream",
     "text": [
      "/media/toto/WORKSPACE/CSI5610/SpMv/suite_matrix_dataset/mm/rgg010 rgg010.mtx\n",
      "/media/toto/WORKSPACE/CSI5610/SpMv/suite_matrix_dataset/mm/mycielskian2 mycielskian2.mtx\n"
     ]
    }
   ],
   "source": [
    "import os\n",
    "\n",
    "root = os.getcwd()\n",
    "dataset_path = 'suite_matrix_dataset'\n",
    "\n",
    "# scan file in the path\n",
    "for dirpath, dirnames, files in os.walk(os.path.join(root, dataset_path)):\n",
    "    for file in files:\n",
    "        if file.endswith('.mtx'):\n",
    "            print(dirpath, file)"
   ]
  },
  {
   "cell_type": "code",
   "execution_count": 2,
   "metadata": {},
   "outputs": [
    {
     "data": {
      "text/plain": [
       "array([[1., 0., 0., 1., 0., 0., 1., 0., 0., 1.],\n",
       "       [1., 1., 1., 1., 0., 0., 1., 0., 0., 1.],\n",
       "       [1., 1., 1., 1., 0., 0., 1., 0., 0., 1.],\n",
       "       [1., 1., 1., 1., 0., 0., 1., 0., 0., 1.],\n",
       "       [1., 1., 1., 1., 1., 1., 1., 0., 0., 1.],\n",
       "       [1., 1., 1., 1., 1., 1., 1., 0., 0., 1.],\n",
       "       [1., 1., 1., 1., 1., 1., 1., 0., 0., 1.],\n",
       "       [1., 1., 1., 1., 1., 1., 1., 1., 1., 1.],\n",
       "       [1., 1., 1., 1., 1., 1., 1., 1., 1., 1.],\n",
       "       [1., 1., 1., 1., 1., 1., 1., 1., 1., 1.]])"
      ]
     },
     "execution_count": 2,
     "metadata": {},
     "output_type": "execute_result"
    }
   ],
   "source": [
    "import scipy.io as sio\n",
    "from scipy.sparse import *\n",
    "\n",
    "sample_matrix_path = '/media/toto/WORKSPACE/CSI5610/SpMv/suite_matrix_dataset/mm/rgg010/rgg010.mtx'\n",
    "\n",
    "mm = sio.mmread(sample_matrix_path)\n",
    "mm.toarray()"
   ]
  },
  {
   "cell_type": "code",
   "execution_count": 3,
   "metadata": {},
   "outputs": [
    {
     "data": {
      "text/plain": [
       "array([[ 4.],\n",
       "       [ 6.],\n",
       "       [ 6.],\n",
       "       [ 6.],\n",
       "       [ 8.],\n",
       "       [ 8.],\n",
       "       [ 8.],\n",
       "       [10.],\n",
       "       [10.],\n",
       "       [10.]])"
      ]
     },
     "execution_count": 3,
     "metadata": {},
     "output_type": "execute_result"
    }
   ],
   "source": [
    "import numpy as np\n",
    "\n",
    "mm.dot(np.ones((10,1)))"
   ]
  },
  {
   "cell_type": "code",
   "execution_count": null,
   "metadata": {},
   "outputs": [],
   "source": []
  }
 ],
 "metadata": {
  "kernelspec": {
   "display_name": "Python 3",
   "language": "python",
   "name": "python3"
  },
  "language_info": {
   "codemirror_mode": {
    "name": "ipython",
    "version": 3
   },
   "file_extension": ".py",
   "mimetype": "text/x-python",
   "name": "python",
   "nbconvert_exporter": "python",
   "pygments_lexer": "ipython3",
   "version": "3.6.7"
  }
 },
 "nbformat": 4,
 "nbformat_minor": 2
}
